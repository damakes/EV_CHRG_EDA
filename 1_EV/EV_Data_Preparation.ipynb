{
 "cells": [
  {
   "cell_type": "markdown",
   "metadata": {},
   "source": [
    "# EV_Data_Preparation\n"
   ]
  },
  {
   "cell_type": "markdown",
   "metadata": {},
   "source": [
    "## 1) Data Collection\n",
    "* charging_data.csv : ev_data\n",
    "* Weather.csv : weather_data\n"
   ]
  },
  {
   "cell_type": "code",
   "execution_count": 2,
   "metadata": {},
   "outputs": [],
   "source": [
    "import pandas as pd\n",
    "ev_data = pd.read_csv(\"charging_data.csv\")\n",
    "weather_data = pd.read_csv(\"weather_data.csv\")"
   ]
  },
  {
   "cell_type": "code",
   "execution_count": 3,
   "metadata": {},
   "outputs": [
    {
     "name": "stdout",
     "output_type": "stream",
     "text": [
      "<class 'pandas.core.frame.DataFrame'>\n",
      "RangeIndex: 126963 entries, 0 to 126962\n",
      "Data columns (total 8 columns):\n",
      " #   Column                           Non-Null Count   Dtype  \n",
      "---  ------                           --------------   -----  \n",
      " 0   Transaction Date (Pacific Time)  126797 non-null  object \n",
      " 1   Charging Time (hh:mm:ss)         126963 non-null  object \n",
      " 2   Energy (kWh)                     126963 non-null  float64\n",
      " 3   GHG Savings (kg)                 126963 non-null  float64\n",
      " 4   Gasoline Savings (gallons)       126963 non-null  float64\n",
      " 5   Fee                              126963 non-null  float64\n",
      " 6   Port Number                      126963 non-null  int64  \n",
      " 7   Ended By                         126929 non-null  object \n",
      "dtypes: float64(4), int64(1), object(3)\n",
      "memory usage: 7.7+ MB\n"
     ]
    },
    {
     "data": {
      "text/html": [
       "<div>\n",
       "<style scoped>\n",
       "    .dataframe tbody tr th:only-of-type {\n",
       "        vertical-align: middle;\n",
       "    }\n",
       "\n",
       "    .dataframe tbody tr th {\n",
       "        vertical-align: top;\n",
       "    }\n",
       "\n",
       "    .dataframe thead th {\n",
       "        text-align: right;\n",
       "    }\n",
       "</style>\n",
       "<table border=\"1\" class=\"dataframe\">\n",
       "  <thead>\n",
       "    <tr style=\"text-align: right;\">\n",
       "      <th></th>\n",
       "      <th>Transaction Date (Pacific Time)</th>\n",
       "      <th>Charging Time (hh:mm:ss)</th>\n",
       "      <th>Energy (kWh)</th>\n",
       "      <th>GHG Savings (kg)</th>\n",
       "      <th>Gasoline Savings (gallons)</th>\n",
       "      <th>Fee</th>\n",
       "      <th>Port Number</th>\n",
       "      <th>Ended By</th>\n",
       "    </tr>\n",
       "  </thead>\n",
       "  <tbody>\n",
       "    <tr>\n",
       "      <th>0</th>\n",
       "      <td>08-01-2017 06:59</td>\n",
       "      <td>01:39:55</td>\n",
       "      <td>5.273</td>\n",
       "      <td>2.215</td>\n",
       "      <td>0.662</td>\n",
       "      <td>1.21</td>\n",
       "      <td>2</td>\n",
       "      <td>Plug Out at Vehicle</td>\n",
       "    </tr>\n",
       "    <tr>\n",
       "      <th>1</th>\n",
       "      <td>08-01-2017 09:06</td>\n",
       "      <td>03:04:59</td>\n",
       "      <td>10.239</td>\n",
       "      <td>4.300</td>\n",
       "      <td>1.285</td>\n",
       "      <td>2.36</td>\n",
       "      <td>2</td>\n",
       "      <td>Plug Out at Vehicle</td>\n",
       "    </tr>\n",
       "    <tr>\n",
       "      <th>2</th>\n",
       "      <td>08-01-2017 09:18</td>\n",
       "      <td>02:37:49</td>\n",
       "      <td>8.010</td>\n",
       "      <td>3.364</td>\n",
       "      <td>1.005</td>\n",
       "      <td>1.84</td>\n",
       "      <td>2</td>\n",
       "      <td>Customer</td>\n",
       "    </tr>\n",
       "    <tr>\n",
       "      <th>3</th>\n",
       "      <td>08-01-2017 08:31</td>\n",
       "      <td>01:57:00</td>\n",
       "      <td>11.730</td>\n",
       "      <td>4.927</td>\n",
       "      <td>1.472</td>\n",
       "      <td>2.70</td>\n",
       "      <td>1</td>\n",
       "      <td>Plug Out at Vehicle</td>\n",
       "    </tr>\n",
       "    <tr>\n",
       "      <th>4</th>\n",
       "      <td>08-01-2017 09:44</td>\n",
       "      <td>01:29:05</td>\n",
       "      <td>7.843</td>\n",
       "      <td>3.294</td>\n",
       "      <td>0.984</td>\n",
       "      <td>1.80</td>\n",
       "      <td>2</td>\n",
       "      <td>Plug Out at Vehicle</td>\n",
       "    </tr>\n",
       "  </tbody>\n",
       "</table>\n",
       "</div>"
      ],
      "text/plain": [
       "  Transaction Date (Pacific Time) Charging Time (hh:mm:ss)  Energy (kWh)  \\\n",
       "0                08-01-2017 06:59                 01:39:55         5.273   \n",
       "1                08-01-2017 09:06                 03:04:59        10.239   \n",
       "2                08-01-2017 09:18                 02:37:49         8.010   \n",
       "3                08-01-2017 08:31                 01:57:00        11.730   \n",
       "4                08-01-2017 09:44                 01:29:05         7.843   \n",
       "\n",
       "   GHG Savings (kg)  Gasoline Savings (gallons)   Fee  Port Number  \\\n",
       "0             2.215                       0.662  1.21            2   \n",
       "1             4.300                       1.285  2.36            2   \n",
       "2             3.364                       1.005  1.84            2   \n",
       "3             4.927                       1.472  2.70            1   \n",
       "4             3.294                       0.984  1.80            2   \n",
       "\n",
       "              Ended By  \n",
       "0  Plug Out at Vehicle  \n",
       "1  Plug Out at Vehicle  \n",
       "2             Customer  \n",
       "3  Plug Out at Vehicle  \n",
       "4  Plug Out at Vehicle  "
      ]
     },
     "execution_count": 3,
     "metadata": {},
     "output_type": "execute_result"
    }
   ],
   "source": [
    "ev_data.info(); ev_data.describe(); ev_data.head()"
   ]
  },
  {
   "cell_type": "code",
   "execution_count": 4,
   "metadata": {},
   "outputs": [
    {
     "data": {
      "text/html": [
       "<div>\n",
       "<style scoped>\n",
       "    .dataframe tbody tr th:only-of-type {\n",
       "        vertical-align: middle;\n",
       "    }\n",
       "\n",
       "    .dataframe tbody tr th {\n",
       "        vertical-align: top;\n",
       "    }\n",
       "\n",
       "    .dataframe thead th {\n",
       "        text-align: right;\n",
       "    }\n",
       "</style>\n",
       "<table border=\"1\" class=\"dataframe\">\n",
       "  <thead>\n",
       "    <tr style=\"text-align: right;\">\n",
       "      <th></th>\n",
       "      <th>count</th>\n",
       "      <th>mean</th>\n",
       "      <th>std</th>\n",
       "      <th>min</th>\n",
       "      <th>25%</th>\n",
       "      <th>50%</th>\n",
       "      <th>75%</th>\n",
       "      <th>max</th>\n",
       "    </tr>\n",
       "  </thead>\n",
       "  <tbody>\n",
       "    <tr>\n",
       "      <th>Energy (kWh)</th>\n",
       "      <td>126963.0</td>\n",
       "      <td>8.857845</td>\n",
       "      <td>7.584069</td>\n",
       "      <td>0.010</td>\n",
       "      <td>3.995</td>\n",
       "      <td>6.839</td>\n",
       "      <td>11.748</td>\n",
       "      <td>97.360</td>\n",
       "    </tr>\n",
       "    <tr>\n",
       "      <th>GHG Savings (kg)</th>\n",
       "      <td>126963.0</td>\n",
       "      <td>3.720295</td>\n",
       "      <td>3.185309</td>\n",
       "      <td>0.004</td>\n",
       "      <td>1.678</td>\n",
       "      <td>2.872</td>\n",
       "      <td>4.934</td>\n",
       "      <td>40.891</td>\n",
       "    </tr>\n",
       "    <tr>\n",
       "      <th>Gasoline Savings (gallons)</th>\n",
       "      <td>126963.0</td>\n",
       "      <td>1.111658</td>\n",
       "      <td>0.951801</td>\n",
       "      <td>0.001</td>\n",
       "      <td>0.501</td>\n",
       "      <td>0.858</td>\n",
       "      <td>1.474</td>\n",
       "      <td>12.219</td>\n",
       "    </tr>\n",
       "    <tr>\n",
       "      <th>Fee</th>\n",
       "      <td>126963.0</td>\n",
       "      <td>2.242409</td>\n",
       "      <td>2.253498</td>\n",
       "      <td>0.000</td>\n",
       "      <td>0.960</td>\n",
       "      <td>1.670</td>\n",
       "      <td>2.890</td>\n",
       "      <td>84.560</td>\n",
       "    </tr>\n",
       "    <tr>\n",
       "      <th>Port Number</th>\n",
       "      <td>126963.0</td>\n",
       "      <td>1.529572</td>\n",
       "      <td>0.499127</td>\n",
       "      <td>1.000</td>\n",
       "      <td>1.000</td>\n",
       "      <td>2.000</td>\n",
       "      <td>2.000</td>\n",
       "      <td>2.000</td>\n",
       "    </tr>\n",
       "  </tbody>\n",
       "</table>\n",
       "</div>"
      ],
      "text/plain": [
       "                               count      mean       std    min    25%    50%  \\\n",
       "Energy (kWh)                126963.0  8.857845  7.584069  0.010  3.995  6.839   \n",
       "GHG Savings (kg)            126963.0  3.720295  3.185309  0.004  1.678  2.872   \n",
       "Gasoline Savings (gallons)  126963.0  1.111658  0.951801  0.001  0.501  0.858   \n",
       "Fee                         126963.0  2.242409  2.253498  0.000  0.960  1.670   \n",
       "Port Number                 126963.0  1.529572  0.499127  1.000  1.000  2.000   \n",
       "\n",
       "                               75%     max  \n",
       "Energy (kWh)                11.748  97.360  \n",
       "GHG Savings (kg)             4.934  40.891  \n",
       "Gasoline Savings (gallons)   1.474  12.219  \n",
       "Fee                          2.890  84.560  \n",
       "Port Number                  2.000   2.000  "
      ]
     },
     "execution_count": 4,
     "metadata": {},
     "output_type": "execute_result"
    }
   ],
   "source": [
    "ev_data.describe().transpose()"
   ]
  },
  {
   "cell_type": "code",
   "execution_count": 5,
   "metadata": {},
   "outputs": [
    {
     "name": "stdout",
     "output_type": "stream",
     "text": [
      "<class 'pandas.core.frame.DataFrame'>\n",
      "RangeIndex: 140637 entries, 0 to 140636\n",
      "Data columns (total 8 columns):\n",
      " #   Column              Non-Null Count   Dtype  \n",
      "---  ------              --------------   -----  \n",
      " 0   Date                140637 non-null  object \n",
      " 1   Temp (C)            139784 non-null  float64\n",
      " 2   Dew Point Temp (C)  139784 non-null  float64\n",
      " 3   Rel Hum (%)         139784 non-null  float64\n",
      " 4   Wind Spd (km/h)     139784 non-null  float64\n",
      " 5   Visibility (km)     139784 non-null  float64\n",
      " 6   Stn Press (kPa)     139784 non-null  float64\n",
      " 7   Weather             139784 non-null  object \n",
      "dtypes: float64(6), object(2)\n",
      "memory usage: 8.6+ MB\n"
     ]
    },
    {
     "data": {
      "text/html": [
       "<div>\n",
       "<style scoped>\n",
       "    .dataframe tbody tr th:only-of-type {\n",
       "        vertical-align: middle;\n",
       "    }\n",
       "\n",
       "    .dataframe tbody tr th {\n",
       "        vertical-align: top;\n",
       "    }\n",
       "\n",
       "    .dataframe thead th {\n",
       "        text-align: right;\n",
       "    }\n",
       "</style>\n",
       "<table border=\"1\" class=\"dataframe\">\n",
       "  <thead>\n",
       "    <tr style=\"text-align: right;\">\n",
       "      <th></th>\n",
       "      <th>Date</th>\n",
       "      <th>Temp (C)</th>\n",
       "      <th>Dew Point Temp (C)</th>\n",
       "      <th>Rel Hum (%)</th>\n",
       "      <th>Wind Spd (km/h)</th>\n",
       "      <th>Visibility (km)</th>\n",
       "      <th>Stn Press (kPa)</th>\n",
       "      <th>Weather</th>\n",
       "    </tr>\n",
       "  </thead>\n",
       "  <tbody>\n",
       "    <tr>\n",
       "      <th>0</th>\n",
       "      <td>2017-01-01</td>\n",
       "      <td>-1.8</td>\n",
       "      <td>-3.9</td>\n",
       "      <td>86.0</td>\n",
       "      <td>4.0</td>\n",
       "      <td>8.0</td>\n",
       "      <td>101.24</td>\n",
       "      <td>Fog</td>\n",
       "    </tr>\n",
       "    <tr>\n",
       "      <th>1</th>\n",
       "      <td>2017-01-01</td>\n",
       "      <td>-1.8</td>\n",
       "      <td>-3.9</td>\n",
       "      <td>86.0</td>\n",
       "      <td>4.0</td>\n",
       "      <td>8.0</td>\n",
       "      <td>101.24</td>\n",
       "      <td>Fog</td>\n",
       "    </tr>\n",
       "    <tr>\n",
       "      <th>2</th>\n",
       "      <td>2017-01-01</td>\n",
       "      <td>-1.8</td>\n",
       "      <td>-3.9</td>\n",
       "      <td>86.0</td>\n",
       "      <td>4.0</td>\n",
       "      <td>8.0</td>\n",
       "      <td>101.24</td>\n",
       "      <td>Fog</td>\n",
       "    </tr>\n",
       "    <tr>\n",
       "      <th>3</th>\n",
       "      <td>2017-01-01</td>\n",
       "      <td>-1.8</td>\n",
       "      <td>-3.9</td>\n",
       "      <td>86.0</td>\n",
       "      <td>4.0</td>\n",
       "      <td>8.0</td>\n",
       "      <td>101.24</td>\n",
       "      <td>Fog</td>\n",
       "    </tr>\n",
       "    <tr>\n",
       "      <th>4</th>\n",
       "      <td>2017-01-01</td>\n",
       "      <td>-1.4</td>\n",
       "      <td>-3.3</td>\n",
       "      <td>87.0</td>\n",
       "      <td>9.0</td>\n",
       "      <td>6.4</td>\n",
       "      <td>101.27</td>\n",
       "      <td>Fog</td>\n",
       "    </tr>\n",
       "  </tbody>\n",
       "</table>\n",
       "</div>"
      ],
      "text/plain": [
       "         Date  Temp (C)  Dew Point Temp (C)  Rel Hum (%)  Wind Spd (km/h)  \\\n",
       "0  2017-01-01      -1.8                -3.9         86.0              4.0   \n",
       "1  2017-01-01      -1.8                -3.9         86.0              4.0   \n",
       "2  2017-01-01      -1.8                -3.9         86.0              4.0   \n",
       "3  2017-01-01      -1.8                -3.9         86.0              4.0   \n",
       "4  2017-01-01      -1.4                -3.3         87.0              9.0   \n",
       "\n",
       "   Visibility (km)  Stn Press (kPa) Weather  \n",
       "0              8.0           101.24     Fog  \n",
       "1              8.0           101.24     Fog  \n",
       "2              8.0           101.24     Fog  \n",
       "3              8.0           101.24     Fog  \n",
       "4              6.4           101.27     Fog  "
      ]
     },
     "execution_count": 5,
     "metadata": {},
     "output_type": "execute_result"
    }
   ],
   "source": [
    "weather_data.info(); weather_data.describe(); weather_data.head()"
   ]
  },
  {
   "cell_type": "code",
   "execution_count": 6,
   "metadata": {},
   "outputs": [
    {
     "data": {
      "text/html": [
       "<div>\n",
       "<style scoped>\n",
       "    .dataframe tbody tr th:only-of-type {\n",
       "        vertical-align: middle;\n",
       "    }\n",
       "\n",
       "    .dataframe tbody tr th {\n",
       "        vertical-align: top;\n",
       "    }\n",
       "\n",
       "    .dataframe thead th {\n",
       "        text-align: right;\n",
       "    }\n",
       "</style>\n",
       "<table border=\"1\" class=\"dataframe\">\n",
       "  <thead>\n",
       "    <tr style=\"text-align: right;\">\n",
       "      <th></th>\n",
       "      <th>count</th>\n",
       "      <th>mean</th>\n",
       "      <th>std</th>\n",
       "      <th>min</th>\n",
       "      <th>25%</th>\n",
       "      <th>50%</th>\n",
       "      <th>75%</th>\n",
       "      <th>max</th>\n",
       "    </tr>\n",
       "  </thead>\n",
       "  <tbody>\n",
       "    <tr>\n",
       "      <th>Temp (C)</th>\n",
       "      <td>139784.0</td>\n",
       "      <td>8.814113</td>\n",
       "      <td>11.682938</td>\n",
       "      <td>-23.30</td>\n",
       "      <td>0.10</td>\n",
       "      <td>9.30</td>\n",
       "      <td>18.80</td>\n",
       "      <td>33.00</td>\n",
       "    </tr>\n",
       "    <tr>\n",
       "      <th>Dew Point Temp (C)</th>\n",
       "      <td>139784.0</td>\n",
       "      <td>2.573525</td>\n",
       "      <td>10.876252</td>\n",
       "      <td>-28.50</td>\n",
       "      <td>-5.90</td>\n",
       "      <td>3.30</td>\n",
       "      <td>11.80</td>\n",
       "      <td>24.40</td>\n",
       "    </tr>\n",
       "    <tr>\n",
       "      <th>Rel Hum (%)</th>\n",
       "      <td>139784.0</td>\n",
       "      <td>67.446947</td>\n",
       "      <td>16.917440</td>\n",
       "      <td>18.00</td>\n",
       "      <td>56.00</td>\n",
       "      <td>68.00</td>\n",
       "      <td>81.00</td>\n",
       "      <td>100.00</td>\n",
       "    </tr>\n",
       "    <tr>\n",
       "      <th>Wind Spd (km/h)</th>\n",
       "      <td>139784.0</td>\n",
       "      <td>14.962685</td>\n",
       "      <td>8.698914</td>\n",
       "      <td>0.00</td>\n",
       "      <td>9.00</td>\n",
       "      <td>13.00</td>\n",
       "      <td>20.00</td>\n",
       "      <td>83.00</td>\n",
       "    </tr>\n",
       "    <tr>\n",
       "      <th>Visibility (km)</th>\n",
       "      <td>139784.0</td>\n",
       "      <td>27.642491</td>\n",
       "      <td>12.615001</td>\n",
       "      <td>0.20</td>\n",
       "      <td>24.10</td>\n",
       "      <td>25.00</td>\n",
       "      <td>25.00</td>\n",
       "      <td>48.30</td>\n",
       "    </tr>\n",
       "    <tr>\n",
       "      <th>Stn Press (kPa)</th>\n",
       "      <td>139784.0</td>\n",
       "      <td>101.050272</td>\n",
       "      <td>0.844638</td>\n",
       "      <td>97.52</td>\n",
       "      <td>100.56</td>\n",
       "      <td>101.07</td>\n",
       "      <td>101.58</td>\n",
       "      <td>103.65</td>\n",
       "    </tr>\n",
       "  </tbody>\n",
       "</table>\n",
       "</div>"
      ],
      "text/plain": [
       "                       count        mean        std    min     25%     50%  \\\n",
       "Temp (C)            139784.0    8.814113  11.682938 -23.30    0.10    9.30   \n",
       "Dew Point Temp (C)  139784.0    2.573525  10.876252 -28.50   -5.90    3.30   \n",
       "Rel Hum (%)         139784.0   67.446947  16.917440  18.00   56.00   68.00   \n",
       "Wind Spd (km/h)     139784.0   14.962685   8.698914   0.00    9.00   13.00   \n",
       "Visibility (km)     139784.0   27.642491  12.615001   0.20   24.10   25.00   \n",
       "Stn Press (kPa)     139784.0  101.050272   0.844638  97.52  100.56  101.07   \n",
       "\n",
       "                       75%     max  \n",
       "Temp (C)             18.80   33.00  \n",
       "Dew Point Temp (C)   11.80   24.40  \n",
       "Rel Hum (%)          81.00  100.00  \n",
       "Wind Spd (km/h)      20.00   83.00  \n",
       "Visibility (km)      25.00   48.30  \n",
       "Stn Press (kPa)     101.58  103.65  "
      ]
     },
     "execution_count": 6,
     "metadata": {},
     "output_type": "execute_result"
    }
   ],
   "source": [
    "weather_data.describe().transpose()"
   ]
  },
  {
   "cell_type": "markdown",
   "metadata": {},
   "source": [
    "## 2) Data Cleaning"
   ]
  },
  {
   "cell_type": "code",
   "execution_count": 7,
   "metadata": {},
   "outputs": [],
   "source": [
    "ev_data = ev_data.drop_duplicates()\n",
    "ev_data = ev_data.dropna().reset_index(drop=True)"
   ]
  },
  {
   "cell_type": "code",
   "execution_count": 8,
   "metadata": {},
   "outputs": [],
   "source": [
    "weather_data = weather_data.drop_duplicates()\n",
    "weather_data = weather_data.dropna().reset_index(drop=True)"
   ]
  },
  {
   "cell_type": "markdown",
   "metadata": {},
   "source": [
    "## 2.1) Data preparation\n",
    "* Rename variables.\n",
    "* Convert US Dollar to Euro, gallons to liters.\n",
    "* Parse and handle invalid dates.\n"
   ]
  },
  {
   "cell_type": "code",
   "execution_count": 9,
   "metadata": {},
   "outputs": [
    {
     "data": {
      "text/plain": [
       "Index(['Transaction Date (Pacific Time)', 'Charging Time (hh:mm:ss)',\n",
       "       'Energy (kWh)', 'GHG Savings (kg)', 'Gasoline Savings (gallons)', 'Fee',\n",
       "       'Port Number', 'Ended By'],\n",
       "      dtype='object')"
      ]
     },
     "execution_count": 9,
     "metadata": {},
     "output_type": "execute_result"
    }
   ],
   "source": [
    "ev_data.keys()"
   ]
  },
  {
   "cell_type": "code",
   "execution_count": 10,
   "metadata": {},
   "outputs": [
    {
     "data": {
      "text/html": [
       "<div>\n",
       "<style scoped>\n",
       "    .dataframe tbody tr th:only-of-type {\n",
       "        vertical-align: middle;\n",
       "    }\n",
       "\n",
       "    .dataframe tbody tr th {\n",
       "        vertical-align: top;\n",
       "    }\n",
       "\n",
       "    .dataframe thead th {\n",
       "        text-align: right;\n",
       "    }\n",
       "</style>\n",
       "<table border=\"1\" class=\"dataframe\">\n",
       "  <thead>\n",
       "    <tr style=\"text-align: right;\">\n",
       "      <th></th>\n",
       "      <th>Transaction_Date</th>\n",
       "      <th>Charging_Time</th>\n",
       "      <th>Energy_(kWh)</th>\n",
       "      <th>GHG_Savings_(kg)</th>\n",
       "      <th>Gasoline_Savings_(L)</th>\n",
       "      <th>Fee</th>\n",
       "      <th>Port</th>\n",
       "      <th>Ended_By</th>\n",
       "    </tr>\n",
       "  </thead>\n",
       "  <tbody>\n",
       "    <tr>\n",
       "      <th>0</th>\n",
       "      <td>08-01-2017 06:59</td>\n",
       "      <td>01:39:55</td>\n",
       "      <td>5.273</td>\n",
       "      <td>2.215</td>\n",
       "      <td>0.662</td>\n",
       "      <td>1.21</td>\n",
       "      <td>2</td>\n",
       "      <td>Plug Out at Vehicle</td>\n",
       "    </tr>\n",
       "    <tr>\n",
       "      <th>1</th>\n",
       "      <td>08-01-2017 09:06</td>\n",
       "      <td>03:04:59</td>\n",
       "      <td>10.239</td>\n",
       "      <td>4.300</td>\n",
       "      <td>1.285</td>\n",
       "      <td>2.36</td>\n",
       "      <td>2</td>\n",
       "      <td>Plug Out at Vehicle</td>\n",
       "    </tr>\n",
       "    <tr>\n",
       "      <th>2</th>\n",
       "      <td>08-01-2017 09:18</td>\n",
       "      <td>02:37:49</td>\n",
       "      <td>8.010</td>\n",
       "      <td>3.364</td>\n",
       "      <td>1.005</td>\n",
       "      <td>1.84</td>\n",
       "      <td>2</td>\n",
       "      <td>Customer</td>\n",
       "    </tr>\n",
       "    <tr>\n",
       "      <th>3</th>\n",
       "      <td>08-01-2017 08:31</td>\n",
       "      <td>01:57:00</td>\n",
       "      <td>11.730</td>\n",
       "      <td>4.927</td>\n",
       "      <td>1.472</td>\n",
       "      <td>2.70</td>\n",
       "      <td>1</td>\n",
       "      <td>Plug Out at Vehicle</td>\n",
       "    </tr>\n",
       "    <tr>\n",
       "      <th>4</th>\n",
       "      <td>08-01-2017 09:44</td>\n",
       "      <td>01:29:05</td>\n",
       "      <td>7.843</td>\n",
       "      <td>3.294</td>\n",
       "      <td>0.984</td>\n",
       "      <td>1.80</td>\n",
       "      <td>2</td>\n",
       "      <td>Plug Out at Vehicle</td>\n",
       "    </tr>\n",
       "  </tbody>\n",
       "</table>\n",
       "</div>"
      ],
      "text/plain": [
       "   Transaction_Date Charging_Time  Energy_(kWh)  GHG_Savings_(kg)  \\\n",
       "0  08-01-2017 06:59      01:39:55         5.273             2.215   \n",
       "1  08-01-2017 09:06      03:04:59        10.239             4.300   \n",
       "2  08-01-2017 09:18      02:37:49         8.010             3.364   \n",
       "3  08-01-2017 08:31      01:57:00        11.730             4.927   \n",
       "4  08-01-2017 09:44      01:29:05         7.843             3.294   \n",
       "\n",
       "   Gasoline_Savings_(L)   Fee  Port             Ended_By  \n",
       "0                 0.662  1.21     2  Plug Out at Vehicle  \n",
       "1                 1.285  2.36     2  Plug Out at Vehicle  \n",
       "2                 1.005  1.84     2             Customer  \n",
       "3                 1.472  2.70     1  Plug Out at Vehicle  \n",
       "4                 0.984  1.80     2  Plug Out at Vehicle  "
      ]
     },
     "execution_count": 10,
     "metadata": {},
     "output_type": "execute_result"
    }
   ],
   "source": [
    "ev_data = ev_data.rename({\"Transaction Date (Pacific Time)\": \"Transaction_Date\", \n",
    "                          \"Charging Time (hh:mm:ss)\": \"Charging_Time\",\n",
    "                          \"Energy (kWh)\":\"Energy_(kWh)\", \"GHG Savings (kg)\":\"GHG_Savings_(kg)\",\n",
    "                          \"Gasoline Savings (gallons)\": \"Gasoline_Savings_(L)\",\n",
    "                          \"Port Number\":\"Port\", \"Ended By\":\"Ended_By\"}, axis=1)\n",
    "ev_data.head()"
   ]
  },
  {
   "cell_type": "code",
   "execution_count": 11,
   "metadata": {},
   "outputs": [
    {
     "name": "stdout",
     "output_type": "stream",
     "text": [
      "0    1.1132\n",
      "1    2.1712\n",
      "2    1.6928\n",
      "3    2.4840\n",
      "4    1.6560\n",
      "Name: Fee, dtype: float64 0    2.505943\n",
      "1    4.864254\n",
      "2    3.804339\n",
      "3    5.572126\n",
      "4    3.724845\n",
      "Name: Gasoline_Savings_(L), dtype: float64\n"
     ]
    }
   ],
   "source": [
    "ev_data['Fee'] *= [0.92]\n",
    "ev_data['Gasoline_Savings_(L)'] *= [3.785412 ]\n",
    "\n",
    "print(\n",
    "ev_data['Fee'].head(),\n",
    "ev_data['Gasoline_Savings_(L)'].head()\n",
    ")"
   ]
  },
  {
   "cell_type": "code",
   "execution_count": 12,
   "metadata": {},
   "outputs": [],
   "source": [
    "def parse_date(date_str):\n",
    "    if isinstance(date_str, str):\n",
    "            date_str = date_str.replace('/', '-') \n",
    "    return date_str\n",
    " \n",
    "ev_data['Transaction_Date'] = ev_data['Transaction_Date'].apply(parse_date)\n",
    "weather_data['Date'] = weather_data['Date'].apply(parse_date)"
   ]
  },
  {
   "cell_type": "code",
   "execution_count": 13,
   "metadata": {},
   "outputs": [
    {
     "data": {
      "text/html": [
       "<div>\n",
       "<style scoped>\n",
       "    .dataframe tbody tr th:only-of-type {\n",
       "        vertical-align: middle;\n",
       "    }\n",
       "\n",
       "    .dataframe tbody tr th {\n",
       "        vertical-align: top;\n",
       "    }\n",
       "\n",
       "    .dataframe thead th {\n",
       "        text-align: right;\n",
       "    }\n",
       "</style>\n",
       "<table border=\"1\" class=\"dataframe\">\n",
       "  <thead>\n",
       "    <tr style=\"text-align: right;\">\n",
       "      <th></th>\n",
       "      <th>Transaction_Date</th>\n",
       "      <th>Charging_Time</th>\n",
       "      <th>Energy_(kWh)</th>\n",
       "      <th>GHG_Savings_(kg)</th>\n",
       "      <th>Gasoline_Savings_(L)</th>\n",
       "      <th>Fee</th>\n",
       "      <th>Port</th>\n",
       "      <th>Ended_By</th>\n",
       "      <th>Timestamp</th>\n",
       "    </tr>\n",
       "  </thead>\n",
       "  <tbody>\n",
       "    <tr>\n",
       "      <th>0</th>\n",
       "      <td>08-01-2017</td>\n",
       "      <td>01:39:55</td>\n",
       "      <td>5.273</td>\n",
       "      <td>2.215</td>\n",
       "      <td>2.505943</td>\n",
       "      <td>1.1132</td>\n",
       "      <td>2</td>\n",
       "      <td>Plug Out at Vehicle</td>\n",
       "      <td>06:59</td>\n",
       "    </tr>\n",
       "    <tr>\n",
       "      <th>1</th>\n",
       "      <td>08-01-2017</td>\n",
       "      <td>03:04:59</td>\n",
       "      <td>10.239</td>\n",
       "      <td>4.300</td>\n",
       "      <td>4.864254</td>\n",
       "      <td>2.1712</td>\n",
       "      <td>2</td>\n",
       "      <td>Plug Out at Vehicle</td>\n",
       "      <td>09:06</td>\n",
       "    </tr>\n",
       "    <tr>\n",
       "      <th>2</th>\n",
       "      <td>08-01-2017</td>\n",
       "      <td>02:37:49</td>\n",
       "      <td>8.010</td>\n",
       "      <td>3.364</td>\n",
       "      <td>3.804339</td>\n",
       "      <td>1.6928</td>\n",
       "      <td>2</td>\n",
       "      <td>Customer</td>\n",
       "      <td>09:18</td>\n",
       "    </tr>\n",
       "    <tr>\n",
       "      <th>3</th>\n",
       "      <td>08-01-2017</td>\n",
       "      <td>01:57:00</td>\n",
       "      <td>11.730</td>\n",
       "      <td>4.927</td>\n",
       "      <td>5.572126</td>\n",
       "      <td>2.4840</td>\n",
       "      <td>1</td>\n",
       "      <td>Plug Out at Vehicle</td>\n",
       "      <td>08:31</td>\n",
       "    </tr>\n",
       "    <tr>\n",
       "      <th>4</th>\n",
       "      <td>08-01-2017</td>\n",
       "      <td>01:29:05</td>\n",
       "      <td>7.843</td>\n",
       "      <td>3.294</td>\n",
       "      <td>3.724845</td>\n",
       "      <td>1.6560</td>\n",
       "      <td>2</td>\n",
       "      <td>Plug Out at Vehicle</td>\n",
       "      <td>09:44</td>\n",
       "    </tr>\n",
       "  </tbody>\n",
       "</table>\n",
       "</div>"
      ],
      "text/plain": [
       "  Transaction_Date Charging_Time  Energy_(kWh)  GHG_Savings_(kg)  \\\n",
       "0       08-01-2017      01:39:55         5.273             2.215   \n",
       "1       08-01-2017      03:04:59        10.239             4.300   \n",
       "2       08-01-2017      02:37:49         8.010             3.364   \n",
       "3       08-01-2017      01:57:00        11.730             4.927   \n",
       "4       08-01-2017      01:29:05         7.843             3.294   \n",
       "\n",
       "   Gasoline_Savings_(L)     Fee  Port             Ended_By Timestamp  \n",
       "0              2.505943  1.1132     2  Plug Out at Vehicle     06:59  \n",
       "1              4.864254  2.1712     2  Plug Out at Vehicle     09:06  \n",
       "2              3.804339  1.6928     2             Customer     09:18  \n",
       "3              5.572126  2.4840     1  Plug Out at Vehicle     08:31  \n",
       "4              3.724845  1.6560     2  Plug Out at Vehicle     09:44  "
      ]
     },
     "execution_count": 13,
     "metadata": {},
     "output_type": "execute_result"
    }
   ],
   "source": [
    "ev_data[['Transaction_Date','Timestamp']] = ev_data['Transaction_Date'].str.split(' ', n=1, expand=True)\n",
    "ev_data.head()"
   ]
  },
  {
   "cell_type": "code",
   "execution_count": 14,
   "metadata": {},
   "outputs": [],
   "source": [
    "ev_data=ev_data.reindex(columns=['Transaction_Date', 'Timestamp', 'Charging_Time', 'Energy_(kWh)', 'GHG_Savings_(kg)','Gasoline_Savings_(L)', 'Fee', 'Port', 'Ended_By',])"
   ]
  },
  {
   "cell_type": "code",
   "execution_count": 15,
   "metadata": {},
   "outputs": [],
   "source": [
    "ev_data['Transaction_Date'] = pd.to_datetime(ev_data['Transaction_Date'], errors='coerce')\n",
    "weather_data['Date'] = pd.to_datetime(weather_data['Date'], errors='coerce')"
   ]
  },
  {
   "cell_type": "code",
   "execution_count": 16,
   "metadata": {},
   "outputs": [
    {
     "name": "stdout",
     "output_type": "stream",
     "text": [
      "datetime64[ns] datetime64[ns]\n"
     ]
    }
   ],
   "source": [
    "# Rename 'Date' column in weather_data to 'Timestamp' to help with the merge with ev_data\n",
    "weather_data = weather_data.rename(columns={'Date': 'Transaction_Date'})\n",
    "\n",
    "# Lets Check  : datetime64[ns]\n",
    "print(ev_data['Transaction_Date'].dtype, weather_data['Transaction_Date'].dtype)  \n"
   ]
  },
  {
   "cell_type": "markdown",
   "metadata": {},
   "source": [
    "## 3) Merge data \n",
    "* charging_data.csv & Weather.csv."
   ]
  },
  {
   "cell_type": "code",
   "execution_count": 17,
   "metadata": {},
   "outputs": [],
   "source": [
    "merged_data = pd.merge(ev_data, weather_data, on='Transaction_Date', how='inner')"
   ]
  },
  {
   "cell_type": "code",
   "execution_count": 18,
   "metadata": {},
   "outputs": [
    {
     "data": {
      "text/plain": [
       "(False, (3482085, 16))"
      ]
     },
     "execution_count": 18,
     "metadata": {},
     "output_type": "execute_result"
    }
   ],
   "source": [
    "merged_data.duplicated().any(), merged_data.shape"
   ]
  },
  {
   "cell_type": "code",
   "execution_count": 19,
   "metadata": {},
   "outputs": [
    {
     "data": {
      "text/plain": [
       "array(['August', 'September', 'October', 'November', 'December',\n",
       "       'January', 'February', 'March', 'April', 'May', 'June', 'July'],\n",
       "      dtype=object)"
      ]
     },
     "execution_count": 19,
     "metadata": {},
     "output_type": "execute_result"
    }
   ],
   "source": [
    "merged_data['Transaction_Date'].dt.month_name().unique()"
   ]
  },
  {
   "cell_type": "code",
   "execution_count": 20,
   "metadata": {},
   "outputs": [
    {
     "data": {
      "text/plain": [
       "array(['Plug Out at Vehicle', 'Customer', 'CPS Server',\n",
       "       'Outlet Unreachable', 'Plug Removed While Rebooting', 'Unknown',\n",
       "       'Final GFCI Tripped', 'Final 4-strikes GFCI trip',\n",
       "       'Holster Plugin', 'Relay Stuck Closed'], dtype=object)"
      ]
     },
     "execution_count": 20,
     "metadata": {},
     "output_type": "execute_result"
    }
   ],
   "source": [
    "merged_data['Ended_By'].unique()"
   ]
  },
  {
   "cell_type": "code",
   "execution_count": 21,
   "metadata": {},
   "outputs": [
    {
     "name": "stdout",
     "output_type": "stream",
     "text": [
      "<class 'pandas.core.frame.DataFrame'>\n",
      "Int64Index: 3482085 entries, 0 to 3482084\n",
      "Data columns (total 16 columns):\n",
      " #   Column                Dtype         \n",
      "---  ------                -----         \n",
      " 0   Transaction_Date      datetime64[ns]\n",
      " 1   Timestamp             object        \n",
      " 2   Charging_Time         object        \n",
      " 3   Energy_(kWh)          float64       \n",
      " 4   GHG_Savings_(kg)      float64       \n",
      " 5   Gasoline_Savings_(L)  float64       \n",
      " 6   Fee                   float64       \n",
      " 7   Port                  int64         \n",
      " 8   Ended_By              object        \n",
      " 9   Temp (C)              float64       \n",
      " 10  Dew Point Temp (C)    float64       \n",
      " 11  Rel Hum (%)           float64       \n",
      " 12  Wind Spd (km/h)       float64       \n",
      " 13  Visibility (km)       float64       \n",
      " 14  Stn Press (kPa)       float64       \n",
      " 15  Weather               object        \n",
      "dtypes: datetime64[ns](1), float64(10), int64(1), object(4)\n",
      "memory usage: 451.6+ MB\n"
     ]
    }
   ],
   "source": [
    "merged_data.info()"
   ]
  },
  {
   "cell_type": "markdown",
   "metadata": {},
   "source": [
    "## 4) Save DataFrame to a CSV file"
   ]
  },
  {
   "cell_type": "code",
   "execution_count": 22,
   "metadata": {},
   "outputs": [],
   "source": [
    "# save csv\n",
    "# merged_data.to_csv('merged_data.csv', index=False)"
   ]
  }
 ],
 "metadata": {
  "kernelspec": {
   "display_name": "Python 3",
   "language": "python",
   "name": "python3"
  },
  "language_info": {
   "codemirror_mode": {
    "name": "ipython",
    "version": 3
   },
   "file_extension": ".py",
   "mimetype": "text/x-python",
   "name": "python",
   "nbconvert_exporter": "python",
   "pygments_lexer": "ipython3",
   "version": "3.12.1"
  }
 },
 "nbformat": 4,
 "nbformat_minor": 2
}
